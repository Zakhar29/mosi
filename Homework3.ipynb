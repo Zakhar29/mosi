{
  "nbformat": 4,
  "nbformat_minor": 0,
  "metadata": {
    "colab": {
      "provenance": []
    },
    "kernelspec": {
      "name": "python3",
      "display_name": "Python 3"
    },
    "language_info": {
      "name": "python"
    }
  },
  "cells": [
    {
      "cell_type": "markdown",
      "source": [
        "#1. Импорт библиотек и определение класса нейронной сети"
      ],
      "metadata": {
        "id": "vjnbM717HmFd"
      }
    },
    {
      "cell_type": "code",
      "source": [
        "import numpy as np"
      ],
      "metadata": {
        "id": "v5PzJUvXHeQO"
      },
      "execution_count": 1,
      "outputs": []
    },
    {
      "cell_type": "code",
      "source": [
        "# Определяем класс для настраиваемой нейронной сети\n",
        "class ConfigurableNeuralNetwork:\n",
        "    def __init__(self, input_size, hidden_size, output_size):\n",
        "\n",
        "        # Инициализация нейронной сети.\n",
        "\n",
        "        self.input_size = input_size\n",
        "        self.hidden_size = hidden_size\n",
        "        self.output_size = output_size\n",
        "\n",
        "        # Инициализация весов и смещений для слоев\n",
        "\n",
        "        self.W1 = np.random.randn(self.input_size, self.hidden_size)\n",
        "        self.b1 = np.zeros((1, self.hidden_size))\n",
        "        self.W2 = np.random.randn(self.hidden_size, self.output_size)\n",
        "        self.b2 = np.zeros((1, self.output_size))\n",
        "\n",
        "\n",
        "    def sigmoid(self, x):\n",
        "        \"\"\"\n",
        "        Сигмоидная функция активации.\n",
        "        \"\"\"\n",
        "        return 1 / (1 + np.exp(-x))\n",
        "\n",
        "\n",
        "    def sigmoid_derivative(self, x):\n",
        "        \"\"\"\n",
        "        Производная сигмоидной функции.\n",
        "        \"\"\"\n",
        "        return x * (1 - x)\n",
        "\n",
        "\n",
        "    # Функция прямого распространения данных через сеть\n",
        "    def forward(self, X):\n",
        "        \"\"\"\n",
        "        Прямое распространение (forward propagation).\n",
        "        \"\"\"\n",
        "        self.z1 = np.dot(X, self.W1) + self.b1  # Линейная комбинация входных данных и весов\n",
        "        self.a1 = self.sigmoid(self.z1)  # Применяем активацию к скрытому слою\n",
        "        self.z2 = np.dot(self.a1, self.W2) + self.b2  # Линейная комбинация скрытого слоя и весов\n",
        "        self.a2 = self.sigmoid(self.z2)  # Применяем активацию к выходному слою\n",
        "        return self.a2, self.a1  # Возвращаем выходные данные и значения скрытого слоя\n",
        "\n",
        "\n",
        "\n",
        "    def backward(self, X, y, output, hidden_layer):\n",
        "        \"\"\"\n",
        "        Обратное распространение (backpropagation).\n",
        "        \"\"\"\n",
        "        error = y - output  # Ошибка на выходном слое\n",
        "\n",
        "        # Рассчитываем дельты и градиенты для каждого слоя\n",
        "        delta2 = error * self.sigmoid_derivative(output)\n",
        "        dW2 = np.dot(hidden_layer.T, delta2)\n",
        "        db2 = np.sum(delta2, axis=0, keepdims=True)\n",
        "\n",
        "        delta1 = delta2.dot(self.W2.T) * self.sigmoid_derivative(hidden_layer)\n",
        "        dW1 = np.dot(X.T, delta1)\n",
        "        db1 = np.sum(delta1, axis=0)\n",
        "\n",
        "        return dW1, db1, dW2, db2  # Возвращаем градиенты для обновления весов и смещений\n",
        "\n",
        "\n",
        "    def train(self, X, y, learning_rate, epochs):\n",
        "        \"\"\"\n",
        "        Обучение нейронной сети.\n",
        "        \"\"\"\n",
        "        for i in range(epochs):\n",
        "            # Выполняем прямое распространение и получаем предсказания\n",
        "            output, hidden_layer = self.forward(X)\n",
        "            # Выполняем обратное распространение для получения градиентов\n",
        "            dW1, db1, dW2, db2 = self.backward(X, y, output, hidden_layer)\n",
        "\n",
        "            # Обновляем веса и смещения\n",
        "            self.W1 += learning_rate * dW1\n",
        "            self.b1 += learning_rate * db1\n",
        "            self.W2 += learning_rate * dW2\n",
        "            self.b2 += learning_rate * db2\n",
        "\n",
        "            # Печатаем ошибку каждые 1000 эпох\n",
        "            if (i % 1000 == 0):\n",
        "                loss = np.mean(np.square(y - output))\n",
        "                print(f\"Epoch {i}, Loss: {loss}\")\n",
        "\n",
        "  # Функция для предсказания на основе обученной модели\n",
        "    def predict(self, X):\n",
        "        \"\"\"\n",
        "        Предсказание на основе обученной модели.\n",
        "        \"\"\"\n",
        "        output, _ = self.forward(X)  # Прогоняем данные через сеть\n",
        "        return np.round(output)  # Округляем результат до 0 или 1\n"
      ],
      "metadata": {
        "id": "0U5c6SWqH2gG"
      },
      "execution_count": 2,
      "outputs": []
    },
    {
      "cell_type": "markdown",
      "source": [
        "#3. Основной код для тестирования"
      ],
      "metadata": {
        "id": "_BDmGjbsOEXW"
      }
    },
    {
      "cell_type": "code",
      "source": [
        "# Основной код для тестирования нейронной сети\n",
        "if __name__ == \"__main__\":\n",
        "    # Создаем искусственный датасет для задачи XOR\n",
        "    X = np.array([[0, 0], [0, 1], [1, 0], [1, 1]])\n",
        "    y = np.array([[0], [1], [1], [0]])  # XOR\n",
        "\n",
        "    # Параметры нейронной сети\n",
        "    input_size = 2\n",
        "    hidden_size = 10  # Количество нейронов в скрытом слое\n",
        "    output_size = 1\n",
        "    learning_rate = 0.1\n",
        "    epochs = 10000\n",
        "\n",
        "    # Создаем и обучаем нейронную сеть\n",
        "    nn = ConfigurableNeuralNetwork(input_size, hidden_size, output_size)\n",
        "    nn.train(X, y, learning_rate, epochs)\n",
        "\n",
        "    # Тестовые данные\n",
        "    X_test = np.array([[0, 0], [1, 1], [0, 1], [1, 0], [0.5, 0.5], [0.2, 0.8], [0.8, 0.2]])\n",
        "\n",
        "    # Предсказания\n",
        "    predictions = nn.predict(X_test)\n",
        "\n",
        "    # Выводим результаты предсказаний\n",
        "    print(\"\\n--- Результаты предсказаний ---\")\n",
        "    for i, (inp, pred) in enumerate(zip(X_test, predictions)):\n",
        "        print(f\"Тест {i+1}: Входные данные: {inp} → Предсказание: {pred[0]}\")\n",
        "    print(\"--- Конец предсказаний ---\\n\")\n"
      ],
      "metadata": {
        "colab": {
          "base_uri": "https://localhost:8080/"
        },
        "id": "KX5neleqOL-t",
        "outputId": "2aa2573d-150b-4112-8ae5-432edd533bcb"
      },
      "execution_count": 3,
      "outputs": [
        {
          "output_type": "stream",
          "name": "stdout",
          "text": [
            "Epoch 0, Loss: 0.3053851925851801\n",
            "Epoch 1000, Loss: 0.08737521212855612\n",
            "Epoch 2000, Loss: 0.017511453699769274\n",
            "Epoch 3000, Loss: 0.007486980194585744\n",
            "Epoch 4000, Loss: 0.0044449592658621475\n",
            "Epoch 5000, Loss: 0.003073825397179421\n",
            "Epoch 6000, Loss: 0.0023156816331120584\n",
            "Epoch 7000, Loss: 0.001841779647755833\n",
            "Epoch 8000, Loss: 0.001520449738248718\n",
            "Epoch 9000, Loss: 0.0012896211599770025\n",
            "\n",
            "--- Результаты предсказаний ---\n",
            "Тест 1: Входные данные: [0. 0.] → Предсказание: 0.0\n",
            "Тест 2: Входные данные: [1. 1.] → Предсказание: 0.0\n",
            "Тест 3: Входные данные: [0. 1.] → Предсказание: 1.0\n",
            "Тест 4: Входные данные: [1. 0.] → Предсказание: 1.0\n",
            "Тест 5: Входные данные: [0.5 0.5] → Предсказание: 0.0\n",
            "Тест 6: Входные данные: [0.2 0.8] → Предсказание: 1.0\n",
            "Тест 7: Входные данные: [0.8 0.2] → Предсказание: 1.0\n",
            "--- Конец предсказаний ---\n",
            "\n"
          ]
        }
      ]
    }
  ]
}